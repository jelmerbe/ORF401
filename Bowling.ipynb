{
  "nbformat": 4,
  "nbformat_minor": 0,
  "metadata": {
    "colab": {
      "name": "Bowling.ipynb",
      "provenance": [],
      "collapsed_sections": [],
      "include_colab_link": true
    },
    "kernelspec": {
      "name": "python3",
      "display_name": "Python 3"
    }
  },
  "cells": [
    {
      "cell_type": "markdown",
      "metadata": {
        "id": "view-in-github",
        "colab_type": "text"
      },
      "source": [
        "<a href=\"https://colab.research.google.com/github/jelmerbe/ORF401/blob/main/Bowling.ipynb\" target=\"_parent\"><img src=\"https://colab.research.google.com/assets/colab-badge.svg\" alt=\"Open In Colab\"/></a>"
      ]
    },
    {
      "cell_type": "markdown",
      "metadata": {
        "id": "RxT9PeFyKeXL"
      },
      "source": [
        "#Bowling Simulation"
      ]
    },
    {
      "cell_type": "code",
      "metadata": {
        "id": "xPurK0oC5n-t",
        "colab": {
          "base_uri": "https://localhost:8080/",
          "height": 284
        },
        "outputId": "8bcc0635-5585-4e77-d094-4d14e504b880"
      },
      "source": [
        "import numpy as np\n",
        "import math as mp\n",
        "from scipy.stats import truncnorm\n",
        "import matplotlib.pyplot as plt\n",
        "import statistics \n",
        "\n",
        "#Bowlingsimulation function. with a distribution approximately normal. with an avg\n",
        "# comparable to an average player (amateurs included)\n",
        "\n",
        "def Bowlingsimulation():\n",
        "  #Create arrays for all three rolls \n",
        "  Roll_1 = np.zeros(10)\n",
        "  Roll_2 = np.zeros(10)\n",
        "  Roll_3 = np.zeros(10)\n",
        "\n",
        "  # function that adds bounds to normal dist. **\n",
        "  def get_truncated_normal(mean=0, sd=1, low=0, upp=10):\n",
        "    return truncnorm(\n",
        "        (low - mean) / sd, (upp - mean) / sd, loc=mean, scale=sd)\n",
        "\n",
        "  #Distrubtion of Roll_1\n",
        "  Dist_roll1 = get_truncated_normal(mean=7.3, sd=3, low=0, upp=11)\n",
        "\n",
        "  #Frame 1-9 \n",
        "  for i in range (10):\n",
        "    Roll_1[i] = mp.floor(Dist_roll1.rvs()) #Roll 1 \n",
        "\n",
        "    if (Roll_1[i] != 10): #Roll 2\n",
        "      up = 11 - Roll_1[i] \n",
        "      Dist_roll2 = get_truncated_normal(mean=4, sd=2, low= 0, upp= up)\n",
        "      Roll_2[i] = mp.floor(Dist_roll2.rvs())\n",
        "\n",
        "  #Frame 10 \n",
        "  if (Roll_1[9] == 10 ): #Strike\n",
        "    Roll_2[9] = mp.floor(Dist_roll1.rvs())\n",
        "    up = 10 - Roll_2[9]\n",
        "    X = get_truncated_normal(mean= 7.3, sd=2, low= 0, upp= up) \n",
        "    Roll_3[9] = mp.floor(X.rvs())\n",
        "\n",
        "  if (Roll_1[9] + Roll_2[9] == 10 and Roll_1[9] != 10): #Spare\n",
        "    Roll_3[9] = mp.floor(Dist_roll1.rvs())\n",
        "\n",
        "  ## Get absolute score, including bonus points\n",
        "  pointsFrame = np.zeros(10)\n",
        "\n",
        "  for i in range (8):\n",
        "    #Open frame\n",
        "    if (Roll_1[i] + Roll_2[i] <= 10): #Open\n",
        "      pointsFrame[i] = Roll_1[i] + Roll_2[i]\n",
        "\n",
        "    #Strike frame\n",
        "    if (Roll_1[i] == 10): #Strike\n",
        "      #bonus for no strike in following frame\n",
        "      if (Roll_1[i + 1] != 10):\n",
        "        Strike_bonus = Roll_1[i + 1] + Roll_2[i + 1]\n",
        "      #bonus for strike in following frame\n",
        "      if (Roll_1[i + 1] == 10):\n",
        "        Strike_bonus = Roll_1[i+1] + Roll_1[i + 2]\n",
        "\n",
        "      pointsFrame[i] = 10 + Strike_bonus\n",
        "\n",
        "    #Spare frame \n",
        "    if (Roll_1[i] + Roll_2[i] == 10 and Roll_1[i] != 10): #Spare\n",
        "      Spare_bonus = Roll_1[i + 1]\n",
        "      pointsFrame[i] = 10 + Spare_bonus\n",
        "\n",
        "#Bonus points for frame 9 \n",
        "#Open frame\n",
        "    if (Roll_1[8] + Roll_2[8] <= 10): #Open\n",
        "      pointsFrame[8] = Roll_1[8] + Roll_2[8]\n",
        "\n",
        "    #Strike frame\n",
        "    if (Roll_1[8] == 10): #Strike\n",
        "      #bonus for no strike in following frame\n",
        "      if (Roll_1[9] != 10):\n",
        "        Strike_bonus = Roll_1[9] + Roll_2[9]\n",
        "      #bonus for strike in following frame\n",
        "      if (Roll_1[9] == 10):\n",
        "        Strike_bonus = Roll_1[9] + Roll_3[9]\n",
        "\n",
        "      pointsFrame[8] = 10 + Strike_bonus\n",
        "\n",
        "    #Spare frame \n",
        "    if (Roll_1[8] + Roll_2[8] == 10 and Roll_1[8] != 10): #Spare\n",
        "      Spare_bonus = Roll_1[9]\n",
        "      pointsFrame[8] = 10 + Spare_bonus\n",
        "\n",
        "\n",
        "  pointsFrame[9] = Roll_1[9] + Roll_2[9] + Roll_3[9]\n",
        "\n",
        "  return pointsFrame\n",
        "\n",
        "## Create total\n",
        "sum_total = np.zeros(100)\n",
        "\n",
        "for j in range (100):\n",
        "  Temp = np.zeros(10)\n",
        "  Temp = Bowlingsimulation()\n",
        "  \n",
        "  sum = 0\n",
        "  for i in range (10):\n",
        "    sum = sum + Temp[i]\n",
        "\n",
        "  sum_total[j] = sum \n",
        "\n",
        "# Print histogram of total scores\n",
        "plt.hist(sum_total, bins = 15, color = \"red\") #Approximately normal\n",
        "  \n",
        "\n",
        "\n",
        "#** source = https://stackoverflow.com/questions/36894191/how-to-get-a-normal-distribution-within-a-range-in-numpy\n",
        "\n",
        "#output of simulation\n",
        "if (statistics.mean(sum_total) > 110):\n",
        "  print(\"YOU ARE A BOWLING LEGEND\")\n",
        "  \n",
        "\n",
        "if (statistics.mean(sum_total) < 102):\n",
        "  print(\"THE ODDS ARE BEATING YOU\")\n",
        "\n"
      ],
      "execution_count": null,
      "outputs": [
        {
          "output_type": "stream",
          "text": [
            "YOU ARE A BOWLING LEGEND\n"
          ],
          "name": "stdout"
        },
        {
          "output_type": "display_data",
          "data": {
            "image/png": "[encoded data removed]",
            "text/plain": [
              "<Figure size 432x288 with 1 Axes>"
            ]
          },
          "metadata": {
            "tags": [],
            "needs_background": "light"
          }
        }
      ]
    }
  ]
}
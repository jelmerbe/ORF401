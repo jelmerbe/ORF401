{
  "nbformat": 4,
  "nbformat_minor": 0,
  "metadata": {
    "colab": {
      "name": "baseball2.ipynb",
      "provenance": [],
      "collapsed_sections": [],
      "include_colab_link": true
    },
    "kernelspec": {
      "name": "python3",
      "display_name": "Python 3"
    },
    "language_info": {
      "name": "python"
    }
  },
  "cells": [
    {
      "cell_type": "markdown",
      "metadata": {
        "id": "view-in-github",
        "colab_type": "text"
      },
      "source": [
        "<a href=\"https://colab.research.google.com/github/jelmerbe/ORF401/blob/main/baseball_Pitch_Classification.ipynb\" target=\"_parent\"><img src=\"https://colab.research.google.com/assets/colab-badge.svg\" alt=\"Open In Colab\"/></a>"
      ]
    },
    {
      "cell_type": "markdown",
      "metadata": {
        "id": "67PHd3UgtS1V"
      },
      "source": [
        "#Baseball Simulation"
      ]
    },
    {
      "cell_type": "markdown",
      "metadata": {
        "id": "bC4BjUkmtV7A"
      },
      "source": [
        "##Import the data"
      ]
    },
    {
      "cell_type": "code",
      "metadata": {
        "id": "Tbc2QTJU6Nk_"
      },
      "source": [
        "## Import (edited) data ##\n",
        "import numpy as np\n",
        "import math\n",
        "\n",
        "#fastball = 0, curveball = 1, slider = 2, changeup = 3\n",
        "#right = 1, left = 2\n",
        "\n",
        "data = np.genfromtxt('baseball999.csv', delimiter=',')\n"
      ],
      "execution_count": null,
      "outputs": []
    },
    {
      "cell_type": "markdown",
      "metadata": {
        "id": "zd68GqE5tY4m"
      },
      "source": [
        "##Separate training and testing data"
      ]
    },
    {
      "cell_type": "code",
      "metadata": {
        "id": "fVRi67M46fef"
      },
      "source": [
        "## Seperate training and testing data ##\n",
        "\n",
        "train_data = np.zeros([4000,11]) #all the completed rows\n",
        "test_data = np.zeros([1000,11]) #all the rows with missing data\n",
        "trainCounter = 0\n",
        "testCounter = 0\n",
        "for i in range (0,5000):\n",
        "  if math.isnan(data[i,3]):\n",
        "    test_data[testCounter] = data[i]\n",
        "    testCounter = testCounter + 1\n",
        "  else :\n",
        "    train_data[trainCounter] = data[i]\n",
        "    trainCounter = trainCounter + 1"
      ],
      "execution_count": null,
      "outputs": []
    },
    {
      "cell_type": "markdown",
      "metadata": {
        "id": "SlZEi4wftbvH"
      },
      "source": [
        "##Train Data and Build Model"
      ]
    },
    {
      "cell_type": "code",
      "metadata": {
        "id": "i_H58Zh066E8"
      },
      "source": [
        "## Train data and build model ##\n",
        "\n",
        "#Libraries imported\n",
        "from sklearn.preprocessing import StandardScaler\n",
        "from sklearn.model_selection import train_test_split\n",
        "from sklearn.linear_model import LogisticRegression\n",
        "import lightgbm as lgb\n",
        "\n",
        "def prediction_model(data):\n",
        "  #Assign X and y\n",
        "  X = data[:,[1,2,4,5,6,7,8,9,10]]\n",
        "  Y = data[:,3]\n",
        "\n",
        "  X_train,X_test,y_train,y_test=train_test_split(X,Y,test_size=0.3,random_state=0)\n",
        "    \n",
        "  d_train=lgb.Dataset(X_train, label=y_train)\n",
        "  \n",
        "  #setting up the parameters\n",
        "  params={}\n",
        "  params['num_leaves'] = 10\n",
        "  params['learning_rate']=0.03\n",
        "  params['boosting_type']='gbdt' #GradientBoostingDecisionTree\n",
        "  params['objective']='multiclass' #Multi-class target feature\n",
        "  params['metric']='multi_logloss' #metric for multi-class\n",
        "  params['max_depth']= 5\n",
        "  params['num_class']= 4 #no.of unique values in the target class not inclusive of the end value\n",
        "  params['min_data_in_leaf'] = 10\n",
        "  params['class_weight'] = 'balanced'\n",
        "\n",
        "  #training the model\n",
        "  clf=lgb.train(params,d_train,500)\n",
        "    \n",
        "  #prediction on the test dataset\n",
        "  y = clf.predict(X)\n",
        "  \n",
        "  #argmax() method \n",
        "  y = [np.argmax(line) for line in y]\n",
        "\n",
        "  pred = np.zeros(4000)    \n",
        "  for i in range (0,4000):\n",
        "    pred = np.round(y, decimals = 0) \n",
        "  \n",
        "  print(pred)\n",
        "  return pred, clf\n",
        "\n",
        "    \n",
        "\n",
        "\n",
        "\n"
      ],
      "execution_count": null,
      "outputs": []
    },
    {
      "cell_type": "markdown",
      "metadata": {
        "id": "d5QkqT_stoCA"
      },
      "source": [
        "##Test accuracy of the model"
      ]
    },
    {
      "cell_type": "code",
      "metadata": {
        "colab": {
          "base_uri": "https://localhost:8080/"
        },
        "id": "NRe1EcS0xECU",
        "outputId": "e929d629-136a-4fe0-af41-b47b0b600f58"
      },
      "source": [
        "## Test accuracy of our model ##\n",
        "\n",
        "count_test = 0\n",
        "outcome, clf = prediction_model(train_data)\n",
        "\n",
        "for i in range (4000):\n",
        "  if outcome[i] == train_data[i, 3]:\n",
        "    count_test = count_test + 1\n",
        "\n",
        "#Calculate accuracy \n",
        "accuracy = (count_test / 4000) * 100\n",
        "print(\"Accuracy percentage is\", accuracy, \"%\")"
      ],
      "execution_count": null,
      "outputs": [
        {
          "output_type": "stream",
          "text": [
            "[0 0 0 ... 0 0 3]\n",
            "Accuracy percentage is 99.5 %\n"
          ],
          "name": "stdout"
        }
      ]
    },
    {
      "cell_type": "markdown",
      "metadata": {
        "id": "Hg0iCZgztq-T"
      },
      "source": [
        "##Predict missing pitch classifications"
      ]
    },
    {
      "cell_type": "code",
      "metadata": {
        "colab": {
          "base_uri": "https://localhost:8080/"
        },
        "id": "8VQ0qWc3Kf_F",
        "outputId": "ca3857fa-b2e1-47b7-b551-b12aceff2306"
      },
      "source": [
        "## Predict missing pitch classifications ##\n",
        "test_X = test_data[:,[1,2,4,5,6,7,8,9,10]]\n",
        "\n",
        "#Make predictions\n",
        "Pitch_classifications = clf.predict(test_X)\n",
        "\n",
        "#argmax() method \n",
        "Pitch_classifications = [np.argmax(line) for line in Pitch_classifications]\n",
        "\n",
        "#Round values\n",
        "for i in range (0,1000):\n",
        "  Pitch_classifications = np.round(Pitch_classifications, decimals = 0)\n",
        "\n",
        "print(Pitch_classifications)"
      ],
      "execution_count": null,
      "outputs": [
        {
          "output_type": "stream",
          "text": [
            "[2 2 1 2 2 0 2 2 0 0 2 2 0 0 2 3 1 2 0 0 2 0 0 0 1 3 1 0 0 2 0 0 2 0 0 2 1\n",
            " 2 2 2 0 0 0 2 0 0 0 2 0 0 0 2 0 0 0 2 0 0 0 0 0 0 0 0 0 2 0 0 2 2 0 0 0 0\n",
            " 0 0 0 0 2 2 0 0 0 0 2 0 1 0 0 0 0 0 0 0 2 2 0 0 0 0 3 0 3 0 0 3 0 0 0 3 3\n",
            " 0 3 0 3 3 0 2 0 0 3 3 2 2 0 2 3 2 2 0 0 1 0 0 2 1 0 0 2 2 0 3 0 1 3 0 3 0\n",
            " 0 2 0 0 0 1 0 0 3 0 2 2 2 2 0 2 0 0 3 0 3 3 0 0 2 0 2 2 2 0 1 1 0 0 1 0 0\n",
            " 1 0 3 1 1 1 3 2 3 3 2 0 1 0 3 2 1 3 0 3 3 0 0 2 0 2 0 0 0 2 2 0 0 2 2 2 0\n",
            " 2 0 0 2 0 0 3 0 0 2 0 0 2 0 2 0 3 0 0 0 2 0 0 3 0 0 0 0 0 3 0 0 3 0 0 3 2\n",
            " 2 0 2 0 0 0 0 0 0 0 0 0 0 0 2 0 2 0 2 0 2 0 1 0 0 0 0 2 0 0 1 1 0 1 0 0 0\n",
            " 1 2 2 3 1 0 0 0 0 0 0 0 1 0 2 0 0 0 0 2 0 1 1 0 2 0 2 2 0 2 0 0 2 2 2 0 0\n",
            " 0 0 0 2 2 0 1 0 1 0 2 2 0 0 0 1 0 0 0 0 1 0 0 0 2 0 2 0 1 0 2 1 2 1 1 2 2\n",
            " 1 0 1 0 2 0 2 2 0 0 0 3 0 0 1 0 0 2 2 0 2 0 1 0 1 0 0 2 2 1 0 2 0 1 0 1 2\n",
            " 2 0 0 2 2 2 0 2 0 2 0 2 0 0 2 1 2 2 1 2 0 1 2 0 1 0 0 0 0 2 0 2 2 0 2 2 0\n",
            " 0 0 0 2 2 3 2 0 2 2 2 2 1 2 0 0 2 2 0 2 1 0 2 2 0 0 0 2 0 0 0 2 1 0 1 3 2\n",
            " 0 1 0 0 0 0 2 0 3 2 1 1 0 0 0 3 0 2 0 0 0 0 0 3 0 2 2 3 3 0 0 0 2 2 0 0 0\n",
            " 2 0 3 0 2 3 0 0 0 0 0 3 0 0 0 1 1 0 3 2 3 0 0 0 2 0 0 2 0 0 0 2 0 0 0 2 3\n",
            " 0 3 0 2 3 3 0 2 2 0 0 0 0 0 2 2 0 0 0 3 0 2 0 0 0 0 0 0 0 0 3 0 2 3 2 3 3\n",
            " 0 0 0 0 0 0 0 0 1 0 0 0 0 1 1 1 0 0 0 1 0 1 0 0 0 3 1 3 0 1 0 0 0 0 0 0 0\n",
            " 1 0 0 3 0 1 0 0 0 0 0 0 0 0 0 0 0 0 0 0 1 3 0 1 0 3 3 0 0 0 3 1 0 0 0 0 1\n",
            " 0 1 0 0 3 3 0 0 1 0 1 0 3 3 0 3 0 1 0 0 0 1 3 0 0 1 0 0 0 1 1 3 0 0 0 1 3\n",
            " 3 0 0 0 0 1 0 0 0 0 0 0 0 0 0 1 0 1 0 3 3 3 0 0 0 0 0 0 0 0 0 0 2 1 0 0 0\n",
            " 0 3 0 0 0 0 3 0 0 0 0 0 0 0 0 0 0 0 0 3 0 0 0 0 0 3 0 0 0 0 0 0 0 0 3 0 3\n",
            " 0 0 0 0 3 3 3 3 0 0 3 0 0 0 0 0 3 3 3 0 0 1 3 0 0 0 0 3 0 0 0 0 1 0 0 3 0\n",
            " 1 1 0 1 0 0 1 0 1 0 0 0 1 0 0 0 1 1 3 1 1 0 0 0 0 0 0 0 3 1 0 1 0 0 0 0 1\n",
            " 1 0 0 0 0 0 3 0 1 1 1 0 3 1 0 0 0 1 1 1 1 0 0 1 0 1 1 0 1 0 1 0 0 3 0 0 3\n",
            " 0 0 0 0 0 0 0 0 1 0 0 0 0 0 0 3 3 3 0 0 3 2 0 3 3 3 0 3 3 0 3 3 0 0 0 0 0\n",
            " 0 0 3 0 0 0 0 0 3 0 3 2 0 0 0 3 3 0 0 0 0 0 0 0 0 0 0 2 0 0 0 0 0 3 3 0 0\n",
            " 3 0 3 2 0 0 0 3 0 0 0 0 0 0 3 0 0 0 0 0 3 2 3 0 0 0 0 0 0 0 0 0 0 0 3 3 0\n",
            " 0]\n"
          ],
          "name": "stdout"
        }
      ]
    },
    {
      "cell_type": "markdown",
      "metadata": {
        "id": "zp8BM5t7twYL"
      },
      "source": [
        "##Export pitch classifications as .csv file"
      ]
    },
    {
      "cell_type": "code",
      "metadata": {
        "id": "qU6Qydd3v_YR"
      },
      "source": [
        "from numpy import savetxt\n",
        "## Fill out data set ##\n",
        "results = np.zeros([100,10])\n",
        "\n",
        "Counter = 0\n",
        "for i in range (0,10):\n",
        "  for j in range(0,100):\n",
        "    results[j,i] = Pitch_classifications[Counter]\n",
        "    Counter = Counter + 1\n",
        "\n",
        "savetxt('results1.csv', results, delimiter=',')"
      ],
      "execution_count": null,
      "outputs": []
    }
  ]
}